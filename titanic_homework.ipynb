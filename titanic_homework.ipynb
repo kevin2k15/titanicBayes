{
 "cells": [
  {
   "cell_type": "markdown",
   "metadata": {},
   "source": [
    "# boy in 2nd Class"
   ]
  },
  {
   "cell_type": "code",
   "execution_count": null,
   "metadata": {},
   "outputs": [],
   "source": [
    "import pandas as pd\n",
    "location='titanic3.xls'\n",
    "df=pd.read_excel(location)\n",
    "df.head()"
   ]
  },
  {
   "cell_type": "code",
   "execution_count": 91,
   "metadata": {},
   "outputs": [],
   "source": [
    "total_passengers = len(df)\n",
    "\n",
    "total_2ndclass = len(df[df['pclass'] == 2])\n",
    "total_boys = len(df[(df['sex'] == 'male') & (df['age'] < 18)])\n",
    "boyssurvived = len(df[(df['sex'] == 'male') & (df['survived'] == 1) & (df['age'] < 18)])\n",
    "boysdead = len(df[(df['sex'] == 'male') & (df['survived'] == 0) & (df['age'] < 18)])\n",
    "total_under18 = len(df[df['age'] < 18])\n",
    "total_boysin2ndclass = len(df[(df['age'] < 18) & (df['pclass'] == 2) & (df['sex'] == 'male')])\n",
    "\n",
    "boysurvivedin2ndclass = len(df[(df['age'] < 18) & (df['survived'] == 1) & (df['pclass'] == 2) & (df['sex'] == 'male')])\n",
    "boysdeadin2ndclass = len(df[(df['age'] < 18) & (df['survived'] == 1) & (df['pclass'] == 2) & (df['sex'] == 'male')])\n",
    "under18survived = len(df[(df['age'] < 18) & (df['survived'] == 1)])\n",
    "under18dead = len(df[(df['age'] < 18) & (df['survived'] == 0)])\n",
    "\n",
    "\n",
    "secondclasssurvived = len(df[(df['pclass'] == 2) & (df['survived'] == 1)])\n",
    "childsurvived = len(df[(df['age'] < 18) & (df['survived'] == 1)])\n",
    "childsurvivedin2ndclass = len(df[(df['age'] < 18) & (df['survived'] == 1) & (['pclass'] == 2)])\n",
    "\n",
    "                            "
   ]
  },
  {
   "cell_type": "code",
   "execution_count": 108,
   "metadata": {},
   "outputs": [],
   "source": [
    "p_boy_survived = boyssurvived/total_boys\n",
    "p_2ndclass_survived = secondclasssurvived/total_boys\n",
    "p_under18_survived = under18survived/total_boys"
   ]
  },
  {
   "cell_type": "code",
   "execution_count": 109,
   "metadata": {},
   "outputs": [],
   "source": [
    "def findBayessurvived(isboy, is2ndclass, isunder18): \n",
    "    return isboy*is2ndclass*isunder18"
   ]
  },
  {
   "cell_type": "code",
   "execution_count": 110,
   "metadata": {},
   "outputs": [
    {
     "name": "stdout",
     "output_type": "stream",
     "text": [
      "0.5419411355029671\n"
     ]
    }
   ],
   "source": [
    "print(findBayessurvived(p_boy_survived, p_2ndclass_survived, p_under18_survived))"
   ]
  },
  {
   "cell_type": "markdown",
   "metadata": {},
   "source": [
    "# Womanin3rdclass"
   ]
  },
  {
   "cell_type": "code",
   "execution_count": 111,
   "metadata": {},
   "outputs": [],
   "source": [
    "total_passengers = len(df)\n",
    "\n",
    "total_women = len(df[df['sex'] == 'female'])\n",
    "total_survived = len(df[df['survived'] == 1])\n",
    "total_over18 = len(df[df['age'] > 18])\n",
    "total_3rdclass = len(df[df['pclass'] == 3])\n",
    "\n",
    "womensurvived = len(df[(df['sex'] == 'female') & (df['survived'] == 1)])\n",
    "thirdclasssurvived = len(df[(df['pclass'] == 3) & (df['survived'] == 1)])\n",
    "adultsurvived = len(df[(df['age'] > 18) & (df['survived'] == 1)])"
   ]
  },
  {
   "cell_type": "code",
   "execution_count": 113,
   "metadata": {},
   "outputs": [
    {
     "name": "stdout",
     "output_type": "stream",
     "text": [
      "0.18007680000000004\n"
     ]
    }
   ],
   "source": [
    "p_woman_survived = womensurvived / total_survived\n",
    "p_secondclass_survived = firstclasssurvived / total_survived\n",
    "p_over18_survived = adultsurvived / total_survived\n",
    "p_survived = total_survived / total_passengers\n",
    "\n",
    "print(findBayessurvived(p_woman_survived, p_secondclass_survived, p_over18_survived))"
   ]
  },
  {
   "cell_type": "markdown",
   "metadata": {},
   "source": [
    "# A man in first class"
   ]
  },
  {
   "cell_type": "code",
   "execution_count": 114,
   "metadata": {},
   "outputs": [],
   "source": [
    "total_passengers = len(df)\n",
    "\n",
    "total_men = len(df[df['sex'] == 'male'])\n",
    "total_survived = len(df[df['survived'] == 1])\n",
    "total_over18 = len(df[df['age'] > 18])\n",
    "total_1stclass = len(df[df['pclass'] == 1])\n",
    "\n",
    "mensurvived = len(df[(df['sex'] == 'male') & (df['survived'] == 1)])\n",
    "firstclasssurvived = len(df[(df['pclass'] == 1) & (df['survived'] == 1)])\n",
    "adultsurvived = len(df[(df['age'] > 18) & (df['survived'] == 1)])"
   ]
  },
  {
   "cell_type": "code",
   "execution_count": 117,
   "metadata": {},
   "outputs": [
    {
     "name": "stdout",
     "output_type": "stream",
     "text": [
      "0.08552320000000001\n"
     ]
    }
   ],
   "source": [
    "p_man_survived = mensurvived / total_survived\n",
    "p_firstclass_survived = firstclasssurvived / total_survived\n",
    "p_over18_survived = adultsurvived / total_survived\n",
    "\n",
    "print(findBayessurvived(p_man_survived, p_secondclass_survived, p_over18_survived))"
   ]
  },
  {
   "cell_type": "markdown",
   "metadata": {},
   "source": [
    "# A boy in 2nd class is more likely to survive"
   ]
  }
 ],
 "metadata": {
  "kernelspec": {
   "display_name": "Python 3.6",
   "language": "python",
   "name": "python36"
  },
  "language_info": {
   "codemirror_mode": {
    "name": "ipython",
    "version": 3
   },
   "file_extension": ".py",
   "mimetype": "text/x-python",
   "name": "python",
   "nbconvert_exporter": "python",
   "pygments_lexer": "ipython3",
   "version": "3.6.3"
  }
 },
 "nbformat": 4,
 "nbformat_minor": 2
}
